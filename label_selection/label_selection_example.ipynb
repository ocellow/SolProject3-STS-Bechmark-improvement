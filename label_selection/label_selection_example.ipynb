{
 "cells": [
  {
   "cell_type": "markdown",
   "id": "77fb2f41",
   "metadata": {},
   "source": [
    "## remove_uncertain_label.py\n",
    "    - 불확실성이 높은 pseudo-label standard deviation에 따라 제거 후 self-training에 사용하기 "
   ]
  },
  {
   "cell_type": "markdown",
   "id": "be655628",
   "metadata": {},
   "source": [
    "사용방법\n",
    "\n",
    "    * git clone\n",
    "    * cd 경로설정\n",
    "    * 학습이 완료된 모델 path list로 생성\n",
    "    * pseudo-label 해줄 데이터 pair를 list로 생성 \n",
    "    * remove_uncertain_label.py 불러와서 실행"
   ]
  },
  {
   "cell_type": "code",
   "execution_count": 10,
   "id": "86cedc5c",
   "metadata": {},
   "outputs": [
    {
     "name": "stdout",
     "output_type": "stream",
     "text": [
      "huggingface/tokenizers: The current process just got forked, after parallelism has already been used. Disabling parallelism to avoid deadlocks...\n",
      "To disable this warning, you can either:\n",
      "\t- Avoid using `tokenizers` before the fork if possible\n",
      "\t- Explicitly set the environment variable TOKENIZERS_PARALLELISM=(true | false)\n",
      "'SolProject3-STS-Bechmark-improvement'에 복제합니다...\n",
      "remote: Enumerating objects: 472, done.\u001b[K\n",
      "remote: Counting objects: 100% (67/67), done.\u001b[K\n",
      "remote: Compressing objects: 100% (65/65), done.\u001b[K\n",
      "remote: Total 472 (delta 36), reused 0 (delta 0), pack-reused 405\u001b[K\n",
      "오브젝트를 받는 중: 100% (472/472), 5.66 MiB | 4.30 MiB/s, 완료.\n",
      "델타를 알아내는 중: 100% (283/283), 완료.\n"
     ]
    }
   ],
   "source": [
    "! git clone https://github.com/tommyEzreal/SolProject3-STS-Bechmark-improvement"
   ]
  },
  {
   "cell_type": "code",
   "execution_count": 11,
   "id": "14a3d9b1",
   "metadata": {},
   "outputs": [
    {
     "name": "stdout",
     "output_type": "stream",
     "text": [
      "/home/sol3sts/SolProject3-STS-Bechmark-improvement/label_selection\n",
      "2022-12-30 18:04:17 - This is an info message\n"
     ]
    }
   ],
   "source": [
    "%cd /home/sol3sts/SolProject3-STS-Bechmark-improvement/label_selection/\n",
    "%run remove_uncertain_label.py"
   ]
  },
  {
   "cell_type": "code",
   "execution_count": 12,
   "id": "e4131ce1",
   "metadata": {},
   "outputs": [
    {
     "data": {
      "text/html": [
       "<div>\n",
       "<style scoped>\n",
       "    .dataframe tbody tr th:only-of-type {\n",
       "        vertical-align: middle;\n",
       "    }\n",
       "\n",
       "    .dataframe tbody tr th {\n",
       "        vertical-align: top;\n",
       "    }\n",
       "\n",
       "    .dataframe thead th {\n",
       "        text-align: right;\n",
       "    }\n",
       "</style>\n",
       "<table border=\"1\" class=\"dataframe\">\n",
       "  <thead>\n",
       "    <tr style=\"text-align: right;\">\n",
       "      <th></th>\n",
       "      <th>sentence1</th>\n",
       "      <th>sentence2</th>\n",
       "    </tr>\n",
       "  </thead>\n",
       "  <tbody>\n",
       "    <tr>\n",
       "      <th>2523</th>\n",
       "      <td>한 남자가 기타를 치고 있다.</td>\n",
       "      <td>한 남자가 트럼펫을 연주하고 있다.</td>\n",
       "    </tr>\n",
       "    <tr>\n",
       "      <th>2524</th>\n",
       "      <td>한 남자가 기타를 치고 있다.</td>\n",
       "      <td>한 남자가 트럼펫을 연주하고 있다.</td>\n",
       "    </tr>\n",
       "    <tr>\n",
       "      <th>2525</th>\n",
       "      <td>한 남자가 자전거를 타고 있다.</td>\n",
       "      <td>한 남자가 말하고 있다.</td>\n",
       "    </tr>\n",
       "    <tr>\n",
       "      <th>2526</th>\n",
       "      <td>한 남자가 양파를 자르고 있다.</td>\n",
       "      <td>한 여성이 호박을 썰고 있다.</td>\n",
       "    </tr>\n",
       "    <tr>\n",
       "      <th>2527</th>\n",
       "      <td>한 남자가 말하고 있다.</td>\n",
       "      <td>한 남자가 요리를 하고 있다.</td>\n",
       "    </tr>\n",
       "    <tr>\n",
       "      <th>...</th>\n",
       "      <td>...</td>\n",
       "      <td>...</td>\n",
       "    </tr>\n",
       "    <tr>\n",
       "      <th>3003</th>\n",
       "      <td>텍사스 공장 폭발로 100명 이상이 부상당했다.</td>\n",
       "      <td>수백 명의 사람들이 텍사스 비료 공장 폭발로 부상당한 것으로 추정된다.</td>\n",
       "    </tr>\n",
       "    <tr>\n",
       "      <th>3004</th>\n",
       "      <td>보도에 따르면 남한 군인은 북한과의 국경에서 5명의 동지들을 살해한 후 도망친다고 한다.</td>\n",
       "      <td>남한 군인이 동지들을 죽이고 도망친다.</td>\n",
       "    </tr>\n",
       "    <tr>\n",
       "      <th>3005</th>\n",
       "      <td>아프가니스탄의 무장 공격으로 상부에서 4명이 사망했다.</td>\n",
       "      <td>아프가니스탄의 무장 공격으로 발로치스탄에서 FC 병사가 사망했다.</td>\n",
       "    </tr>\n",
       "    <tr>\n",
       "      <th>3006</th>\n",
       "      <td>아프가니스탄 테러로 13명 사망</td>\n",
       "      <td>아프가니스탄 수도 모스크 공격으로 6명 사망</td>\n",
       "    </tr>\n",
       "    <tr>\n",
       "      <th>3007</th>\n",
       "      <td>REV의 초기 읽기 : 3월 2일</td>\n",
       "      <td>REV.의 초기 읽기 : 2015년 9월 3일</td>\n",
       "    </tr>\n",
       "  </tbody>\n",
       "</table>\n",
       "<p>485 rows × 2 columns</p>\n",
       "</div>"
      ],
      "text/plain": [
       "                                              sentence1  \\\n",
       "2523                                   한 남자가 기타를 치고 있다.   \n",
       "2524                                   한 남자가 기타를 치고 있다.   \n",
       "2525                                  한 남자가 자전거를 타고 있다.   \n",
       "2526                                  한 남자가 양파를 자르고 있다.   \n",
       "2527                                      한 남자가 말하고 있다.   \n",
       "...                                                 ...   \n",
       "3003                         텍사스 공장 폭발로 100명 이상이 부상당했다.   \n",
       "3004  보도에 따르면 남한 군인은 북한과의 국경에서 5명의 동지들을 살해한 후 도망친다고 한다.   \n",
       "3005                     아프가니스탄의 무장 공격으로 상부에서 4명이 사망했다.   \n",
       "3006                                  아프가니스탄 테러로 13명 사망   \n",
       "3007                                 REV의 초기 읽기 : 3월 2일   \n",
       "\n",
       "                                    sentence2  \n",
       "2523                      한 남자가 트럼펫을 연주하고 있다.  \n",
       "2524                      한 남자가 트럼펫을 연주하고 있다.  \n",
       "2525                            한 남자가 말하고 있다.  \n",
       "2526                         한 여성이 호박을 썰고 있다.  \n",
       "2527                         한 남자가 요리를 하고 있다.  \n",
       "...                                       ...  \n",
       "3003  수백 명의 사람들이 텍사스 비료 공장 폭발로 부상당한 것으로 추정된다.  \n",
       "3004                    남한 군인이 동지들을 죽이고 도망친다.  \n",
       "3005     아프가니스탄의 무장 공격으로 발로치스탄에서 FC 병사가 사망했다.  \n",
       "3006                 아프가니스탄 수도 모스크 공격으로 6명 사망  \n",
       "3007                REV.의 초기 읽기 : 2015년 9월 3일  \n",
       "\n",
       "[485 rows x 2 columns]"
      ]
     },
     "execution_count": 12,
     "metadata": {},
     "output_type": "execute_result"
    }
   ],
   "source": [
    "# pseudo-label해줄 unlabled data load \n",
    "\n",
    "unlabel = pd.read_csv('/home/sol3sts/dataset/aug_korsts.csv')\n",
    "unlabel = unlabel[unlabel['source'] == 'korsts_test']\n",
    "unlabel = unlabel[['sentence1','sentence2']]\n",
    "unlabel"
   ]
  },
  {
   "cell_type": "code",
   "execution_count": 14,
   "id": "c335a746",
   "metadata": {},
   "outputs": [
    {
     "name": "stdout",
     "output_type": "stream",
     "text": [
      "number of models used for ensemble: 10\n",
      "number of unlabeled data used for pseudo labeling: 485\n"
     ]
    }
   ],
   "source": [
    "# n개의 모델과 라벨하고싶은 unlabeled data를 받는 list 각각 생성  \n",
    "\n",
    "\n",
    "# unlabled data\n",
    "sentence_pairs = list(zip(unlabel['sentence1'], unlabel['sentence2']))\n",
    "\n",
    "\n",
    "# trained model list \n",
    "model_save_path_1 = '/home/sol3sts/cross_encoder_base_model_-2022-12-12_04-11-33'\n",
    "model_save_path_2 = '/home/sol3sts/seed2_cross_encoder_-2022-12-12_06-14-43'\n",
    "model_save_path_3 = '/home/sol3sts/seed3_cross_encoder_-2022-12-12_06-32-31'\n",
    "model_save_path_4 = '/home/sol3sts/seed4_cross_encoder_-2022-12-12_06-49-54'\n",
    "model_save_path_5 = '/home/sol3sts/seed5_cross_encoder_-2022-12-12_07-04-37'\n",
    "model_save_path_6 = '/home/sol3sts/seed6_cross_encoder_-2022-12-13_03-54-27'\n",
    "model_save_path_7 = '/home/sol3sts/seed7_cross_encoder_-2022-12-13_04-15-07'\n",
    "model_save_path_8 = '/home/sol3sts/seed8_cross_encoder_-2022-12-13_04-28-38'\n",
    "model_save_path_9 = '/home/sol3sts/seed9_cross_encoder_-2022-12-13_04-43-24'\n",
    "model_save_path_10 = '/home/sol3sts/seed10_cross_encoder_-2022-12-13_04-58-40'\n",
    "\n",
    "\n",
    "\n",
    "\n",
    "model_list = [model_save_path_1,\n",
    "              model_save_path_2,\n",
    "              model_save_path_3,\n",
    "              model_save_path_4,\n",
    "              model_save_path_5,\n",
    "              model_save_path_6,\n",
    "              model_save_path_7,\n",
    "              model_save_path_8,\n",
    "              model_save_path_9,\n",
    "              model_save_path_10]\n",
    "\n",
    "print(\"number of models used for ensemble:\",len(model_list))\n",
    "print(\"number of unlabeled data used for pseudo labeling:\",len(sentence_pairs))"
   ]
  },
  {
   "cell_type": "code",
   "execution_count": 15,
   "id": "8a0b4adc",
   "metadata": {
    "scrolled": false
   },
   "outputs": [
    {
     "name": "stdout",
     "output_type": "stream",
     "text": [
      "2022-12-30 18:07:29 - Load model_0\n",
      "None\n",
      "2022-12-30 18:07:31 - Predict_with_model_0\n",
      "None\n"
     ]
    },
    {
     "data": {
      "application/vnd.jupyter.widget-view+json": {
       "model_id": "14780dfb0a28419e95ef7c326d5e8d3d",
       "version_major": 2,
       "version_minor": 0
      },
      "text/plain": [
       "Batches:   0%|          | 0/16 [00:00<?, ?it/s]"
      ]
     },
     "metadata": {},
     "output_type": "display_data"
    },
    {
     "name": "stdout",
     "output_type": "stream",
     "text": [
      "2022-12-30 18:07:33 - Load model_1\n",
      "None\n",
      "2022-12-30 18:07:34 - Predict_with_model_1\n",
      "None\n"
     ]
    },
    {
     "data": {
      "application/vnd.jupyter.widget-view+json": {
       "model_id": "7a19585c5e384b58899145db35a9c63b",
       "version_major": 2,
       "version_minor": 0
      },
      "text/plain": [
       "Batches:   0%|          | 0/16 [00:00<?, ?it/s]"
      ]
     },
     "metadata": {},
     "output_type": "display_data"
    },
    {
     "name": "stdout",
     "output_type": "stream",
     "text": [
      "2022-12-30 18:07:36 - Load model_2\n",
      "None\n",
      "2022-12-30 18:07:37 - Predict_with_model_2\n",
      "None\n"
     ]
    },
    {
     "data": {
      "application/vnd.jupyter.widget-view+json": {
       "model_id": "357bff6ab5d74fddae6c25178aeeb6d7",
       "version_major": 2,
       "version_minor": 0
      },
      "text/plain": [
       "Batches:   0%|          | 0/16 [00:00<?, ?it/s]"
      ]
     },
     "metadata": {},
     "output_type": "display_data"
    },
    {
     "name": "stdout",
     "output_type": "stream",
     "text": [
      "2022-12-30 18:07:39 - Load model_3\n",
      "None\n",
      "2022-12-30 18:07:40 - Predict_with_model_3\n",
      "None\n"
     ]
    },
    {
     "data": {
      "application/vnd.jupyter.widget-view+json": {
       "model_id": "608a4510a1b9415c8488681d2c75e40a",
       "version_major": 2,
       "version_minor": 0
      },
      "text/plain": [
       "Batches:   0%|          | 0/16 [00:00<?, ?it/s]"
      ]
     },
     "metadata": {},
     "output_type": "display_data"
    },
    {
     "name": "stdout",
     "output_type": "stream",
     "text": [
      "2022-12-30 18:07:41 - Load model_4\n",
      "None\n",
      "2022-12-30 18:07:43 - Predict_with_model_4\n",
      "None\n"
     ]
    },
    {
     "data": {
      "application/vnd.jupyter.widget-view+json": {
       "model_id": "e0cee04115ae47fa86b7276114c8b612",
       "version_major": 2,
       "version_minor": 0
      },
      "text/plain": [
       "Batches:   0%|          | 0/16 [00:00<?, ?it/s]"
      ]
     },
     "metadata": {},
     "output_type": "display_data"
    },
    {
     "name": "stdout",
     "output_type": "stream",
     "text": [
      "2022-12-30 18:07:44 - Load model_5\n",
      "None\n",
      "2022-12-30 18:07:46 - Predict_with_model_5\n",
      "None\n"
     ]
    },
    {
     "data": {
      "application/vnd.jupyter.widget-view+json": {
       "model_id": "3c63b96753ac45489b62efde037fe911",
       "version_major": 2,
       "version_minor": 0
      },
      "text/plain": [
       "Batches:   0%|          | 0/16 [00:00<?, ?it/s]"
      ]
     },
     "metadata": {},
     "output_type": "display_data"
    },
    {
     "name": "stdout",
     "output_type": "stream",
     "text": [
      "2022-12-30 18:07:47 - Load model_6\n",
      "None\n",
      "2022-12-30 18:07:49 - Predict_with_model_6\n",
      "None\n"
     ]
    },
    {
     "data": {
      "application/vnd.jupyter.widget-view+json": {
       "model_id": "f4fdf596ee2a48c4bf33052b4ccdcd5d",
       "version_major": 2,
       "version_minor": 0
      },
      "text/plain": [
       "Batches:   0%|          | 0/16 [00:00<?, ?it/s]"
      ]
     },
     "metadata": {},
     "output_type": "display_data"
    },
    {
     "name": "stdout",
     "output_type": "stream",
     "text": [
      "2022-12-30 18:07:50 - Load model_7\n",
      "None\n",
      "2022-12-30 18:07:52 - Predict_with_model_7\n",
      "None\n"
     ]
    },
    {
     "data": {
      "application/vnd.jupyter.widget-view+json": {
       "model_id": "a54f551449a04389acfb06133782b3b5",
       "version_major": 2,
       "version_minor": 0
      },
      "text/plain": [
       "Batches:   0%|          | 0/16 [00:00<?, ?it/s]"
      ]
     },
     "metadata": {},
     "output_type": "display_data"
    },
    {
     "name": "stdout",
     "output_type": "stream",
     "text": [
      "2022-12-30 18:07:53 - Load model_8\n",
      "None\n",
      "2022-12-30 18:07:55 - Predict_with_model_8\n",
      "None\n"
     ]
    },
    {
     "data": {
      "application/vnd.jupyter.widget-view+json": {
       "model_id": "de601cd7b8c743deb277f669da6cbb90",
       "version_major": 2,
       "version_minor": 0
      },
      "text/plain": [
       "Batches:   0%|          | 0/16 [00:00<?, ?it/s]"
      ]
     },
     "metadata": {},
     "output_type": "display_data"
    },
    {
     "name": "stdout",
     "output_type": "stream",
     "text": [
      "2022-12-30 18:07:56 - Load model_9\n",
      "None\n",
      "2022-12-30 18:07:58 - Predict_with_model_9\n",
      "None\n"
     ]
    },
    {
     "data": {
      "application/vnd.jupyter.widget-view+json": {
       "model_id": "487ab6f96d404cd1a7e7432a7a90e6a7",
       "version_major": 2,
       "version_minor": 0
      },
      "text/plain": [
       "Batches:   0%|          | 0/16 [00:00<?, ?it/s]"
      ]
     },
     "metadata": {},
     "output_type": "display_data"
    },
    {
     "data": {
      "text/plain": [
       "485"
      ]
     },
     "execution_count": 15,
     "metadata": {},
     "output_type": "execute_result"
    }
   ],
   "source": [
    "# remove_uncertain_label 함수사용해서 uncertainty가 높은 label을 제거한 labeled data 생성\n",
    "ensembled_label = remove_uncertain_label(model_list,sentence_pairs)\n",
    "len(ensembled_label)"
   ]
  },
  {
   "cell_type": "code",
   "execution_count": 16,
   "id": "f600ec51",
   "metadata": {},
   "outputs": [
    {
     "data": {
      "text/html": [
       "<div>\n",
       "<style scoped>\n",
       "    .dataframe tbody tr th:only-of-type {\n",
       "        vertical-align: middle;\n",
       "    }\n",
       "\n",
       "    .dataframe tbody tr th {\n",
       "        vertical-align: top;\n",
       "    }\n",
       "\n",
       "    .dataframe thead th {\n",
       "        text-align: right;\n",
       "    }\n",
       "</style>\n",
       "<table border=\"1\" class=\"dataframe\">\n",
       "  <thead>\n",
       "    <tr style=\"text-align: right;\">\n",
       "      <th></th>\n",
       "      <th>sentence1</th>\n",
       "      <th>sentence2</th>\n",
       "      <th>ensembled_pseudo_label</th>\n",
       "    </tr>\n",
       "  </thead>\n",
       "  <tbody>\n",
       "    <tr>\n",
       "      <th>2523</th>\n",
       "      <td>한 남자가 기타를 치고 있다.</td>\n",
       "      <td>한 남자가 트럼펫을 연주하고 있다.</td>\n",
       "      <td>2.6</td>\n",
       "    </tr>\n",
       "    <tr>\n",
       "      <th>2524</th>\n",
       "      <td>한 남자가 기타를 치고 있다.</td>\n",
       "      <td>한 남자가 트럼펫을 연주하고 있다.</td>\n",
       "      <td>2.6</td>\n",
       "    </tr>\n",
       "    <tr>\n",
       "      <th>2525</th>\n",
       "      <td>한 남자가 자전거를 타고 있다.</td>\n",
       "      <td>한 남자가 말하고 있다.</td>\n",
       "      <td>1.9</td>\n",
       "    </tr>\n",
       "    <tr>\n",
       "      <th>2526</th>\n",
       "      <td>한 남자가 양파를 자르고 있다.</td>\n",
       "      <td>한 여성이 호박을 썰고 있다.</td>\n",
       "      <td>2.5</td>\n",
       "    </tr>\n",
       "    <tr>\n",
       "      <th>2527</th>\n",
       "      <td>한 남자가 말하고 있다.</td>\n",
       "      <td>한 남자가 요리를 하고 있다.</td>\n",
       "      <td>2.8</td>\n",
       "    </tr>\n",
       "    <tr>\n",
       "      <th>...</th>\n",
       "      <td>...</td>\n",
       "      <td>...</td>\n",
       "      <td>...</td>\n",
       "    </tr>\n",
       "    <tr>\n",
       "      <th>3003</th>\n",
       "      <td>텍사스 공장 폭발로 100명 이상이 부상당했다.</td>\n",
       "      <td>수백 명의 사람들이 텍사스 비료 공장 폭발로 부상당한 것으로 추정된다.</td>\n",
       "      <td>3.1</td>\n",
       "    </tr>\n",
       "    <tr>\n",
       "      <th>3004</th>\n",
       "      <td>보도에 따르면 남한 군인은 북한과의 국경에서 5명의 동지들을 살해한 후 도망친다고 한다.</td>\n",
       "      <td>남한 군인이 동지들을 죽이고 도망친다.</td>\n",
       "      <td>2.5</td>\n",
       "    </tr>\n",
       "    <tr>\n",
       "      <th>3005</th>\n",
       "      <td>아프가니스탄의 무장 공격으로 상부에서 4명이 사망했다.</td>\n",
       "      <td>아프가니스탄의 무장 공격으로 발로치스탄에서 FC 병사가 사망했다.</td>\n",
       "      <td>2.6</td>\n",
       "    </tr>\n",
       "    <tr>\n",
       "      <th>3006</th>\n",
       "      <td>아프가니스탄 테러로 13명 사망</td>\n",
       "      <td>아프가니스탄 수도 모스크 공격으로 6명 사망</td>\n",
       "      <td>3.0</td>\n",
       "    </tr>\n",
       "    <tr>\n",
       "      <th>3007</th>\n",
       "      <td>REV의 초기 읽기 : 3월 2일</td>\n",
       "      <td>REV.의 초기 읽기 : 2015년 9월 3일</td>\n",
       "      <td>3.6</td>\n",
       "    </tr>\n",
       "  </tbody>\n",
       "</table>\n",
       "<p>485 rows × 3 columns</p>\n",
       "</div>"
      ],
      "text/plain": [
       "                                              sentence1  \\\n",
       "2523                                   한 남자가 기타를 치고 있다.   \n",
       "2524                                   한 남자가 기타를 치고 있다.   \n",
       "2525                                  한 남자가 자전거를 타고 있다.   \n",
       "2526                                  한 남자가 양파를 자르고 있다.   \n",
       "2527                                      한 남자가 말하고 있다.   \n",
       "...                                                 ...   \n",
       "3003                         텍사스 공장 폭발로 100명 이상이 부상당했다.   \n",
       "3004  보도에 따르면 남한 군인은 북한과의 국경에서 5명의 동지들을 살해한 후 도망친다고 한다.   \n",
       "3005                     아프가니스탄의 무장 공격으로 상부에서 4명이 사망했다.   \n",
       "3006                                  아프가니스탄 테러로 13명 사망   \n",
       "3007                                 REV의 초기 읽기 : 3월 2일   \n",
       "\n",
       "                                    sentence2  ensembled_pseudo_label  \n",
       "2523                      한 남자가 트럼펫을 연주하고 있다.                     2.6  \n",
       "2524                      한 남자가 트럼펫을 연주하고 있다.                     2.6  \n",
       "2525                            한 남자가 말하고 있다.                     1.9  \n",
       "2526                         한 여성이 호박을 썰고 있다.                     2.5  \n",
       "2527                         한 남자가 요리를 하고 있다.                     2.8  \n",
       "...                                       ...                     ...  \n",
       "3003  수백 명의 사람들이 텍사스 비료 공장 폭발로 부상당한 것으로 추정된다.                     3.1  \n",
       "3004                    남한 군인이 동지들을 죽이고 도망친다.                     2.5  \n",
       "3005     아프가니스탄의 무장 공격으로 발로치스탄에서 FC 병사가 사망했다.                     2.6  \n",
       "3006                 아프가니스탄 수도 모스크 공격으로 6명 사망                     3.0  \n",
       "3007                REV.의 초기 읽기 : 2015년 9월 3일                     3.6  \n",
       "\n",
       "[485 rows x 3 columns]"
      ]
     },
     "execution_count": 16,
     "metadata": {},
     "output_type": "execute_result"
    }
   ],
   "source": [
    "unlabel['ensembled_pseudo_label'] = ensembled_label\n",
    "unlabel"
   ]
  },
  {
   "cell_type": "code",
   "execution_count": null,
   "id": "fa0884fd",
   "metadata": {},
   "outputs": [],
   "source": []
  }
 ],
 "metadata": {
  "kernelspec": {
   "display_name": "Python 3 (ipykernel)",
   "language": "python",
   "name": "python3"
  },
  "language_info": {
   "codemirror_mode": {
    "name": "ipython",
    "version": 3
   },
   "file_extension": ".py",
   "mimetype": "text/x-python",
   "name": "python",
   "nbconvert_exporter": "python",
   "pygments_lexer": "ipython3",
   "version": "3.7.15"
  }
 },
 "nbformat": 4,
 "nbformat_minor": 5
}

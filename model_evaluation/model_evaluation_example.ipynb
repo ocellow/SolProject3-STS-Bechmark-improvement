{
 "cells": [
  {
   "cell_type": "markdown",
   "id": "d3ce47d4",
   "metadata": {},
   "source": [
    "## model_evaluation.py \n",
    "- new_devset으로 train이 완료된 STS model을 test "
   ]
  },
  {
   "cell_type": "markdown",
   "id": "44994a25",
   "metadata": {},
   "source": [
    "사용방법\n",
    "\n",
    "1. git clone \n",
    "2. cd 경로설정\n",
    "3. 학습이 완료된 모델 path 저장\n",
    "4. model_evaluation.py 불러와서 실행 "
   ]
  },
  {
   "cell_type": "code",
   "execution_count": 1,
   "id": "c0ca5edc",
   "metadata": {},
   "outputs": [
    {
     "name": "stdout",
     "output_type": "stream",
     "text": [
      "'SolProject3-STS-Bechmark-improvement'에 복제합니다...\n",
      "remote: Enumerating objects: 282, done.\u001b[K\n",
      "remote: Counting objects: 100% (182/182), done.\u001b[K\n",
      "remote: Compressing objects: 100% (76/76), done.\u001b[K\n",
      "remote: Total 282 (delta 113), reused 149 (delta 98), pack-reused 100\u001b[K\n",
      "오브젝트를 받는 중: 100% (282/282), 1.45 MiB | 3.36 MiB/s, 완료.\n",
      "델타를 알아내는 중: 100% (167/167), 완료.\n"
     ]
    }
   ],
   "source": [
    "! git clone https://github.com/tommyEzreal/SolProject3-STS-Bechmark-improvement"
   ]
  },
  {
   "cell_type": "code",
   "execution_count": 2,
   "id": "e8e0abb1",
   "metadata": {},
   "outputs": [
    {
     "name": "stdout",
     "output_type": "stream",
     "text": [
      "/home/sol3sts/SolProject3-STS-Bechmark-improvement/model_evaluation\n"
     ]
    }
   ],
   "source": [
    "%cd /home/sol3sts/SolProject3-STS-Bechmark-improvement/model_evaluation/\n",
    "%run /home/sol3sts/SolProject3-STS-Bechmark-improvement/model_evaluation/model_evalutation.py"
   ]
  },
  {
   "cell_type": "code",
   "execution_count": 5,
   "id": "368d9950",
   "metadata": {},
   "outputs": [],
   "source": [
    "# 학습완료된 cross-encoder load \n",
    "model_save_path = '/home/sol3sts/cross_encoder_base_model_-2022-12-12_04-11-33'"
   ]
  },
  {
   "cell_type": "code",
   "execution_count": 7,
   "id": "8573b87b",
   "metadata": {},
   "outputs": [
    {
     "data": {
      "application/vnd.jupyter.widget-view+json": {
       "model_id": "4c210272f4be4ff6bcaef45231c2de64",
       "version_major": 2,
       "version_minor": 0
      },
      "text/plain": [
       "Batches:   0%|          | 0/18 [00:00<?, ?it/s]"
      ]
     },
     "metadata": {},
     "output_type": "display_data"
    },
    {
     "name": "stdout",
     "output_type": "stream",
     "text": [
      "[model_save_path]: /home/sol3sts/cross_encoder_base_model_-2022-12-12_04-11-33\n",
      "[test_data_path]: https://raw.githubusercontent.com/tommyEzreal/SolProject3-STS-Bechmark-improvement/main/data/new_devset.csv\n",
      "\n",
      "\n",
      "[Whole Test Evaluation]\n",
      "\n",
      "* Pearson correlation: 0.9144076761556511\n",
      "* Spearman correlation: 0.9157813031224892\n",
      "\n",
      "* precision: 0.7725631768953068\n",
      "* recall: 0.9145299145299145\n",
      "* f1 score: 0.837573385518591\n",
      "* acc: 0.8509874326750448\n",
      "\n",
      "* MSE: 0.3547396768402156\n",
      "\n",
      "\n",
      "[Test Evaluation Per Label Bin]\n",
      "\n",
      "len = number of test_data, ME = mean_error\n",
      "\n",
      "<bin_0.5> pearson: 0.15 spaerman: 0.21 len: 55 MSE: 0.53 ME: -0.45\n",
      "<bin_1.0> pearson: 0.08 spaerman: 0.07 len: 53 MSE: 0.34 ME: -0.15\n",
      "<bin_1.5> pearson: 0.21 spaerman: 0.22 len: 46 MSE: 0.46 ME: -0.34\n",
      "<bin_2.0> pearson: 0.1 spaerman: 0.1 len: 51 MSE: 0.63 ME: -0.43\n",
      "<bin_2.5> pearson: 0.2 spaerman: 0.25 len: 63 MSE: 0.49 ME: -0.44\n",
      "<bin_3.0> pearson: -0.32 spaerman: -0.31 len: 62 MSE: 0.36 ME: -0.16\n",
      "<bin_3.5> pearson: 0.3 spaerman: 0.35 len: 62 MSE: 0.11 ME: -0.02\n",
      "<bin_4.0> pearson: 0.34 spaerman: 0.33 len: 55 MSE: 0.17 ME: 0.23\n",
      "<bin_4.5> pearson: 0.21 spaerman: 0.2 len: 55 MSE: 0.26 ME: 0.38\n",
      "<bin_5.0> pearson: 0.58 spaerman: 0.62 len: 22 MSE: 0.22 ME: 0.4\n",
      "\n",
      "[Confusion Matrix For Each Label Bin]\n",
      "\n",
      "TP = 유사한페어를 유사하다고 정답, TN = 유사하지않은 페어를 유사하지 않다고 정답, FP=유사하지 않은페어를 유사하다고 오판, FN = 유사한페어를 유사하지않다고 오판\n",
      "\n",
      "* 1.8-2.2:\n",
      "TP: 0 TN: 39 FP: 12 FN 0\n",
      "('accuracy:', 0.7647058823529411)\n",
      "\n",
      "* 2.3-2.7:\n",
      "TP: 0 TN: 33 FP: 30 FN 0\n",
      "('accuracy:', 0.5238095238095238)\n",
      "\n",
      "* 2.8-3.2:\n",
      "TP: 25 TN: 3 FP: 19 FN 15\n",
      "('accuracy:', 0.45161290322580644, 'precision:', 0.5681818181818182, 'recall:', 0.625, 'f1 score:', 0.5952380952380952)\n",
      "\n",
      "* 3.3-3.7:\n",
      "TP: 58 TN: 0 FP: 0 FN 4\n",
      "('accuracy:', 0.9354838709677419, 'precision:', 1.0, 'recall:', 0.9354838709677419, 'f1 score:', 0.9666666666666666)\n",
      "\n",
      "* 3.8-4.2:\n",
      "TP: 54 TN: 0 FP: 0 FN 1\n",
      "('accuracy:', 0.9818181818181818, 'precision:', 1.0, 'recall:', 0.9818181818181818, 'f1 score:', 0.9908256880733944)\n",
      "\n",
      "* 4.3-4.7:\n",
      "TP: 55 TN: 0 FP: 0 FN 0\n",
      "('accuracy:', 1.0, 'precision:', 1.0, 'recall:', 1.0, 'f1 score:', 1.0)\n",
      "\n",
      "* 4.8-5.0:\n",
      "TP: 22 TN: 0 FP: 0 FN 0\n",
      "('accuracy:', 1.0, 'precision:', 1.0, 'recall:', 1.0, 'f1 score:', 1.0)\n"
     ]
    }
   ],
   "source": [
    "model_evaluation(model_save_path = model_save_path\n",
    "                 ,encoding ='cross-encoding')"
   ]
  },
  {
   "cell_type": "code",
   "execution_count": 8,
   "id": "e950601f",
   "metadata": {},
   "outputs": [
    {
     "data": {
      "application/vnd.jupyter.widget-view+json": {
       "model_id": "5cc04b2a93084660b5e0c864219c30f2",
       "version_major": 2,
       "version_minor": 0
      },
      "text/plain": [
       "Batches:   0%|          | 0/18 [00:00<?, ?it/s]"
      ]
     },
     "metadata": {},
     "output_type": "display_data"
    },
    {
     "data": {
      "application/vnd.jupyter.widget-view+json": {
       "model_id": "cfdd49d029de49dabe4564e1d5b3392c",
       "version_major": 2,
       "version_minor": 0
      },
      "text/plain": [
       "Batches:   0%|          | 0/18 [00:00<?, ?it/s]"
      ]
     },
     "metadata": {},
     "output_type": "display_data"
    },
    {
     "name": "stdout",
     "output_type": "stream",
     "text": [
      "[model_save_path]: /home/sol3sts/bi_encoder_-2022-12-26_17-15-56\n",
      "[test_data_path]: https://raw.githubusercontent.com/tommyEzreal/SolProject3-STS-Bechmark-improvement/main/data/new_devset.csv\n",
      "\n",
      "\n",
      "[Whole Test Evaluation]\n",
      "\n",
      "* Pearson correlation: 0.7678131105184974\n",
      "* Spearman correlation: 0.7524250126995848\n",
      "\n",
      "* precision: 0.6385542168674698\n",
      "* recall: 0.905982905982906\n",
      "* f1 score: 0.7491166077738516\n",
      "* acc: 0.7450628366247756\n",
      "\n",
      "* MSE: 1.1286714542190308\n",
      "\n",
      "\n",
      "[Test Evaluation Per Label Bin]\n",
      "\n",
      "len = number of test_data, ME = mean_error\n",
      "\n",
      "<bin_0.5> pearson: 0.19 spaerman: 0.23 len: 55 MSE: 1.8 ME: -1.15\n",
      "<bin_1.0> pearson: -0.04 spaerman: -0.03 len: 53 MSE: 1.95 ME: -1.16\n",
      "<bin_1.5> pearson: 0.07 spaerman: 0.04 len: 46 MSE: 1.98 ME: -1.0\n",
      "<bin_2.0> pearson: 0.09 spaerman: 0.12 len: 51 MSE: 1.64 ME: -0.9\n",
      "<bin_2.5> pearson: 0.14 spaerman: 0.1 len: 63 MSE: 1.14 ME: -0.86\n",
      "<bin_3.0> pearson: -0.06 spaerman: -0.05 len: 62 MSE: 0.69 ME: -0.54\n",
      "<bin_3.5> pearson: -0.05 spaerman: -0.04 len: 62 MSE: 0.47 ME: -0.09\n",
      "<bin_4.0> pearson: 0.32 spaerman: 0.35 len: 55 MSE: 0.27 ME: 0.14\n",
      "<bin_4.5> pearson: 0.31 spaerman: 0.34 len: 55 MSE: 0.59 ME: 0.51\n",
      "<bin_5.0> pearson: 0.09 spaerman: 0.26 len: 22 MSE: 0.48 ME: 0.48\n",
      "\n",
      "[Confusion Matrix For Each Label Bin]\n",
      "\n",
      "TP = 유사한페어를 유사하다고 정답, TN = 유사하지않은 페어를 유사하지 않다고 정답, FP=유사하지 않은페어를 유사하다고 오판, FN = 유사한페어를 유사하지않다고 오판\n",
      "\n",
      "* 1.8-2.2:\n",
      "TP: 0 TN: 26 FP: 25 FN 0\n",
      "('accuracy:', 0.5098039215686274)\n",
      "\n",
      "* 2.3-2.7:\n",
      "TP: 0 TN: 16 FP: 47 FN 0\n",
      "('accuracy:', 0.25396825396825395)\n",
      "\n",
      "* 2.8-3.2:\n",
      "TP: 33 TN: 5 FP: 17 FN 7\n",
      "('accuracy:', 0.6129032258064516, 'precision:', 0.66, 'recall:', 0.825, 'f1 score:', 0.7333333333333334)\n",
      "\n",
      "* 3.3-3.7:\n",
      "TP: 56 TN: 0 FP: 0 FN 6\n",
      "('accuracy:', 0.9032258064516129, 'precision:', 1.0, 'recall:', 0.9032258064516129, 'f1 score:', 0.9491525423728813)\n",
      "\n",
      "* 3.8-4.2:\n",
      "TP: 51 TN: 0 FP: 0 FN 4\n",
      "('accuracy:', 0.9272727272727272, 'precision:', 1.0, 'recall:', 0.9272727272727272, 'f1 score:', 0.9622641509433962)\n",
      "\n",
      "* 4.3-4.7:\n",
      "TP: 51 TN: 0 FP: 0 FN 4\n",
      "('accuracy:', 0.9272727272727272, 'precision:', 1.0, 'recall:', 0.9272727272727272, 'f1 score:', 0.9622641509433962)\n",
      "\n",
      "* 4.8-5.0:\n",
      "TP: 21 TN: 0 FP: 0 FN 1\n",
      "('accuracy:', 0.9545454545454546, 'precision:', 1.0, 'recall:', 0.9545454545454546, 'f1 score:', 0.9767441860465117)\n"
     ]
    }
   ],
   "source": [
    "# 학습완료된 bi-encoder load\n",
    "model_save_path = '/home/sol3sts/bi_encoder_-2022-12-26_17-15-56'\n",
    "\n",
    "model_evaluation(model_save_path = model_save_path\n",
    "                 ,encoding ='bi-encoding')"
   ]
  }
 ],
 "metadata": {
  "kernelspec": {
   "display_name": "Python 3 (ipykernel)",
   "language": "python",
   "name": "python3"
  },
  "language_info": {
   "codemirror_mode": {
    "name": "ipython",
    "version": 3
   },
   "file_extension": ".py",
   "mimetype": "text/x-python",
   "name": "python",
   "nbconvert_exporter": "python",
   "pygments_lexer": "ipython3",
   "version": "3.7.15"
  }
 },
 "nbformat": 4,
 "nbformat_minor": 5
}
